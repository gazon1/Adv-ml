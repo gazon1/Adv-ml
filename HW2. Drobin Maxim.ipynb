{
 "cells": [
  {
   "cell_type": "code",
   "execution_count": 122,
   "metadata": {},
   "outputs": [],
   "source": [
    "import re\n",
    "import pickle\n",
    "from copy import deepcopy\n",
    "from collections import defaultdict\n",
    "\n",
    "import requests\n",
    "import numpy as np\n",
    "from sklearn.linear_model import LogisticRegression\n",
    "from scipy import sparse, stats\n",
    "from scipy.special import expit as sigmoid\n",
    "from tqdm import tqdm, trange\n",
    "\n",
    "import torch\n",
    "from torch import nn"
   ]
  },
  {
   "cell_type": "code",
   "execution_count": 19,
   "metadata": {},
   "outputs": [],
   "source": [
    "import pickle\n",
    "import os, json\n",
    "\n",
    "import pandas as pd\n",
    "\n",
    "DATA_RAW = 'data/raw'\n",
    "tournaments = pickle.load(open(os.path.join(DATA_RAW, 'tournaments.pkl'), 'rb'))\n",
    "results = pickle.load(open(os.path.join(DATA_RAW, 'results.pkl'), 'rb'))\n",
    "players = pickle.load(open(os.path.join(DATA_RAW, 'players.pkl'), 'rb'))"
   ]
  },
  {
   "cell_type": "code",
   "execution_count": 20,
   "metadata": {},
   "outputs": [],
   "source": [
    "result_preprocessed = defaultdict(list)\n",
    "train_tournaments = []\n",
    "test_tournaments = []\n",
    "\n",
    "question_qty_train = 0\n",
    "question_qty_test = 0\n",
    "\n",
    "error_mask = []\n",
    "for tour_id, tour_info in tournaments.items():\n",
    "    tour_date = tour_info['dateStart'][:4] \n",
    "    if tour_date not in ('2019', '2020'):\n",
    "        continue\n",
    "        \n",
    "    # отфильтруем команды без информации по правильно отвеченным вопросам\n",
    "    # и у которых в поле 'mask' только цифры\n",
    "    team_many = [team  for team in results[tour_id] if 'mask' in team.keys() and \\\n",
    "                 team['mask'] is not None and re.match(\"[0-9]+$\", team['mask'])]\n",
    "    if len(team_many) == 0:\n",
    "        continue\n",
    "    question_qty = max([len(team['mask']) for team in team_many])\n",
    "\n",
    "    # отфильтруем команды с неполной статистикой по правильно отвеченным вопросам\n",
    "    team_many = [team for team in team_many if len(team['mask']) == question_qty]\n",
    "    if len(team_many) == 0:\n",
    "        continue\n",
    "    result_preprocessed[tour_id] = team_many\n",
    "    if tour_date == '2019':\n",
    "        train_tournaments.append((tour_id, tour_info['name']))\n",
    "        question_qty_train += question_qty\n",
    "    else:\n",
    "        assert tour_date == '2020'\n",
    "        test_tournaments.append((tour_id, tour_info['name']))\n",
    "        question_qty_test += question_qty"
   ]
  },
  {
   "cell_type": "markdown",
   "metadata": {},
   "source": [
    "# Baseline\n",
    "Построим в качестве безлайна лог. рег. в задаче бинарной классификации - ответ ли участник на вопрос или нет, независимо от команды. В качестве фичей будут one-hot вектора всех пользователей и вопросов"
   ]
  },
  {
   "cell_type": "code",
   "execution_count": 21,
   "metadata": {},
   "outputs": [],
   "source": [
    "player_many = set()\n",
    "\n",
    "question_qty_all = 0\n",
    "for tour_id, _ in train_tournaments:\n",
    "    tournament_answers = []\n",
    "    for team in result_preprocessed[tour_id]:\n",
    "        for player in team['teamMembers']:\n",
    "            player_many.add(player['player']['id'])\n",
    "        \n",
    "\n",
    "player_to_cat = {player:idx for idx, player in enumerate(player_many)}\n",
    "cat_to_player = {idx:player for player, idx in player_to_cat.items()}\n"
   ]
  },
  {
   "cell_type": "code",
   "execution_count": 89,
   "metadata": {},
   "outputs": [],
   "source": [
    "# Уберем из тестовой выборки игроков, которых не было в обучающей выборке\n",
    "test_tournaments_preprocessed = []\n",
    "tournaments_rating_true = []\n",
    "\n",
    "for tour_id, _ in test_tournaments:\n",
    "    team_many = result_preprocessed[tour_id]\n",
    "    team_many_new = []\n",
    "    teams_rating = []\n",
    "    for team in team_many:\n",
    "        team_new = deepcopy(team)\n",
    "        team_new['teamMembers'] = []\n",
    "        for player in team['teamMembers']:\n",
    "            if player['player']['id'] in player_to_cat.keys():\n",
    "                team_new['teamMembers'].append(player)\n",
    "        if len(team_new['teamMembers']) > 0:\n",
    "            team_many_new.append(team_new)\n",
    "            team_answers = list(map(int, team_new['mask']))\n",
    "            team_score = sum(team_answers)\n",
    "            teams_rating.append(team_score)\n",
    "            \n",
    "    if len(team_many_new) > 0:\n",
    "        test_tournaments_preprocessed.append(team_many_new)\n",
    "        tournaments_rating_true.append(teams_rating)"
   ]
  },
  {
   "cell_type": "code",
   "execution_count": 116,
   "metadata": {},
   "outputs": [],
   "source": [
    "player_idxs = []\n",
    "question_idxs = []\n",
    "team_ids = []\n",
    "target = []\n",
    "\n",
    "question_qty = 0\n",
    "player_many_qty = len(player_to_cat)\n",
    "for tour_id, _ in train_tournaments:\n",
    "    question_tour_qty = len(result_preprocessed[tour_id][0]['mask'])\n",
    "    for team in result_preprocessed[tour_id]:\n",
    "        team_answers = list(map(int, team['mask']))\n",
    "        for question in range(question_tour_qty):\n",
    "            for player in team['teamMembers']:\n",
    "                player_idxs.append(player_to_cat[player['player']['id']])\n",
    "                question_idxs.append(player_many_qty + question_qty + question)\n",
    "                target.append(team_answers[question])\n",
    "                team_ids.append(team['team']['id'])\n",
    "    question_qty += question_tour_qty"
   ]
  },
  {
   "cell_type": "code",
   "execution_count": 25,
   "metadata": {},
   "outputs": [],
   "source": [
    "# обучающая выборка\n",
    "# матрица размера:\n",
    "# (кол-во уникальных игроков в выборке; кол-во уникальных игроков в выборке + кол-во уник. вопросов )\n",
    "\n",
    "X = sparse.coo_matrix((\n",
    "   [1] * len(player_idxs),\n",
    "    (\n",
    "        list(range(len(player_idxs))),\n",
    "        player_idxs,\n",
    "    )\n",
    "),\n",
    "    shape = (len(player_idxs), len(player_to_cat) + question_qty),\n",
    "    dtype = np.int32,\n",
    ")\n",
    "\n",
    "X += sparse.coo_matrix((\n",
    "   [1] * len(question_idxs),\n",
    "    (\n",
    "        list(range(len(player_idxs))),\n",
    "        question_idxs,\n",
    "    ), \n",
    "), \n",
    "    shape = (len(player_idxs), len(player_to_cat) + question_qty),\n",
    "    dtype = np.int32,\n",
    ")\n",
    "\n",
    "y = np.array(target)\n",
    "dim0, dim1 = X.shape"
   ]
  },
  {
   "cell_type": "code",
   "execution_count": 26,
   "metadata": {},
   "outputs": [],
   "source": [
    "assert X.sum() == len(question_idxs) + len(player_idxs)\n",
    "assert y.shape[0] == X.shape[0]"
   ]
  },
  {
   "cell_type": "code",
   "execution_count": 27,
   "metadata": {},
   "outputs": [
    {
     "name": "stdout",
     "output_type": "stream",
     "text": [
      "CPU times: user 56.9 s, sys: 344 ms, total: 57.3 s\n",
      "Wall time: 57.3 s\n"
     ]
    }
   ],
   "source": [
    "%%time\n",
    "\n",
    "lr = LogisticRegression(tol=1e-1, solver='saga', C=10, n_jobs=-1)\n",
    "lr.fit(X, y)\n",
    "\n",
    "assert lr.coef_.shape[1] == len(player_to_cat) + question_qty"
   ]
  },
  {
   "cell_type": "code",
   "execution_count": 28,
   "metadata": {},
   "outputs": [],
   "source": [
    "lr_filename = 'lr_hw2.pkl'\n",
    "pickle.dump(lr, open(lr_filename, 'wb'))\n",
    "\n",
    "# lr = pickle.load(open(lr_filename, 'rb'))"
   ]
  },
  {
   "cell_type": "code",
   "execution_count": 29,
   "metadata": {},
   "outputs": [],
   "source": [
    "rating_list = []\n",
    "player_skill = lr.coef_[:len(player_to_cat)][0]\n",
    "\n",
    "for player_idx, player_cat in player_to_cat.items():\n",
    "    rating_list.append({\n",
    "        'score': player_skill[player_cat],\n",
    "        'id': player_idx,\n",
    "        'name': players[player_idx]['name'] + ' ' + players[player_idx]['surname'],\n",
    "    })\n",
    "    \n",
    "sorted_rating = sorted(rating_list, key=lambda x: x['score'], reverse=True)"
   ]
  },
  {
   "cell_type": "code",
   "execution_count": 30,
   "metadata": {},
   "outputs": [],
   "source": [
    "def get_player_position(id):\n",
    "    url = f'https://rating.chgk.info/api/players/{id}/rating/last'\n",
    "    position = -1\n",
    "    try:\n",
    "        position = requests.get(url).json()['rating_position']\n",
    "        position = int(position)\n",
    "    except Exception as e:\n",
    "        pass\n",
    "    \n",
    "    return position"
   ]
  },
  {
   "cell_type": "code",
   "execution_count": 31,
   "metadata": {},
   "outputs": [
    {
     "data": {
      "text/html": [
       "<div>\n",
       "<style scoped>\n",
       "    .dataframe tbody tr th:only-of-type {\n",
       "        vertical-align: middle;\n",
       "    }\n",
       "\n",
       "    .dataframe tbody tr th {\n",
       "        vertical-align: top;\n",
       "    }\n",
       "\n",
       "    .dataframe thead th {\n",
       "        text-align: right;\n",
       "    }\n",
       "</style>\n",
       "<table border=\"1\" class=\"dataframe\">\n",
       "  <thead>\n",
       "    <tr style=\"text-align: right;\">\n",
       "      <th></th>\n",
       "      <th>score</th>\n",
       "      <th>id</th>\n",
       "      <th>name</th>\n",
       "      <th>actual_position</th>\n",
       "    </tr>\n",
       "  </thead>\n",
       "  <tbody>\n",
       "    <tr>\n",
       "      <th>0</th>\n",
       "      <td>4.438798</td>\n",
       "      <td>27403</td>\n",
       "      <td>Максим Руссо</td>\n",
       "      <td>5</td>\n",
       "    </tr>\n",
       "    <tr>\n",
       "      <th>1</th>\n",
       "      <td>4.292067</td>\n",
       "      <td>4270</td>\n",
       "      <td>Александра Брутер</td>\n",
       "      <td>6</td>\n",
       "    </tr>\n",
       "    <tr>\n",
       "      <th>2</th>\n",
       "      <td>4.242939</td>\n",
       "      <td>28751</td>\n",
       "      <td>Иван Семушин</td>\n",
       "      <td>3</td>\n",
       "    </tr>\n",
       "    <tr>\n",
       "      <th>3</th>\n",
       "      <td>4.211719</td>\n",
       "      <td>27822</td>\n",
       "      <td>Михаил Савченков</td>\n",
       "      <td>2</td>\n",
       "    </tr>\n",
       "    <tr>\n",
       "      <th>4</th>\n",
       "      <td>4.138163</td>\n",
       "      <td>30152</td>\n",
       "      <td>Артём Сорожкин</td>\n",
       "      <td>1</td>\n",
       "    </tr>\n",
       "    <tr>\n",
       "      <th>5</th>\n",
       "      <td>4.119870</td>\n",
       "      <td>30270</td>\n",
       "      <td>Сергей Спешков</td>\n",
       "      <td>4</td>\n",
       "    </tr>\n",
       "    <tr>\n",
       "      <th>6</th>\n",
       "      <td>4.105460</td>\n",
       "      <td>40411</td>\n",
       "      <td>Дмитрий Кудинов</td>\n",
       "      <td>-1</td>\n",
       "    </tr>\n",
       "    <tr>\n",
       "      <th>7</th>\n",
       "      <td>4.010716</td>\n",
       "      <td>38175</td>\n",
       "      <td>Максим Пилипенко</td>\n",
       "      <td>9946</td>\n",
       "    </tr>\n",
       "    <tr>\n",
       "      <th>8</th>\n",
       "      <td>3.984454</td>\n",
       "      <td>18036</td>\n",
       "      <td>Михаил Левандовский</td>\n",
       "      <td>8</td>\n",
       "    </tr>\n",
       "    <tr>\n",
       "      <th>9</th>\n",
       "      <td>3.975538</td>\n",
       "      <td>20691</td>\n",
       "      <td>Станислав Мереминский</td>\n",
       "      <td>38</td>\n",
       "    </tr>\n",
       "    <tr>\n",
       "      <th>10</th>\n",
       "      <td>3.975193</td>\n",
       "      <td>22799</td>\n",
       "      <td>Сергей Николенко</td>\n",
       "      <td>10</td>\n",
       "    </tr>\n",
       "    <tr>\n",
       "      <th>11</th>\n",
       "      <td>3.945244</td>\n",
       "      <td>56647</td>\n",
       "      <td>Наталья Горелова</td>\n",
       "      <td>349</td>\n",
       "    </tr>\n",
       "    <tr>\n",
       "      <th>12</th>\n",
       "      <td>3.941626</td>\n",
       "      <td>87637</td>\n",
       "      <td>Антон Саксонов</td>\n",
       "      <td>158</td>\n",
       "    </tr>\n",
       "    <tr>\n",
       "      <th>13</th>\n",
       "      <td>3.941249</td>\n",
       "      <td>26089</td>\n",
       "      <td>Ирина Прокофьева</td>\n",
       "      <td>65</td>\n",
       "    </tr>\n",
       "    <tr>\n",
       "      <th>14</th>\n",
       "      <td>3.906355</td>\n",
       "      <td>30260</td>\n",
       "      <td>Евгений Спектор</td>\n",
       "      <td>1584</td>\n",
       "    </tr>\n",
       "    <tr>\n",
       "      <th>15</th>\n",
       "      <td>3.896646</td>\n",
       "      <td>23737</td>\n",
       "      <td>Андрей Островский</td>\n",
       "      <td>16</td>\n",
       "    </tr>\n",
       "    <tr>\n",
       "      <th>16</th>\n",
       "      <td>3.896429</td>\n",
       "      <td>22935</td>\n",
       "      <td>Илья Новиков</td>\n",
       "      <td>132</td>\n",
       "    </tr>\n",
       "    <tr>\n",
       "      <th>17</th>\n",
       "      <td>3.877915</td>\n",
       "      <td>34328</td>\n",
       "      <td>Михаил Царёв</td>\n",
       "      <td>311</td>\n",
       "    </tr>\n",
       "    <tr>\n",
       "      <th>18</th>\n",
       "      <td>3.865805</td>\n",
       "      <td>13689</td>\n",
       "      <td>Дмитрий Карякин</td>\n",
       "      <td>27</td>\n",
       "    </tr>\n",
       "    <tr>\n",
       "      <th>19</th>\n",
       "      <td>3.858008</td>\n",
       "      <td>202410</td>\n",
       "      <td>Валентина Подюкова</td>\n",
       "      <td>-1</td>\n",
       "    </tr>\n",
       "    <tr>\n",
       "      <th>20</th>\n",
       "      <td>3.846512</td>\n",
       "      <td>21698</td>\n",
       "      <td>Александр Мосягин</td>\n",
       "      <td>146</td>\n",
       "    </tr>\n",
       "    <tr>\n",
       "      <th>21</th>\n",
       "      <td>3.842825</td>\n",
       "      <td>18332</td>\n",
       "      <td>Александр Либер</td>\n",
       "      <td>7</td>\n",
       "    </tr>\n",
       "    <tr>\n",
       "      <th>22</th>\n",
       "      <td>3.841745</td>\n",
       "      <td>74001</td>\n",
       "      <td>Игорь Мокин</td>\n",
       "      <td>74</td>\n",
       "    </tr>\n",
       "    <tr>\n",
       "      <th>23</th>\n",
       "      <td>3.841415</td>\n",
       "      <td>37047</td>\n",
       "      <td>Мария Юнгер</td>\n",
       "      <td>589</td>\n",
       "    </tr>\n",
       "    <tr>\n",
       "      <th>24</th>\n",
       "      <td>3.838808</td>\n",
       "      <td>210174</td>\n",
       "      <td>Анна Карпелевич</td>\n",
       "      <td>16965</td>\n",
       "    </tr>\n",
       "    <tr>\n",
       "      <th>25</th>\n",
       "      <td>3.830555</td>\n",
       "      <td>7008</td>\n",
       "      <td>Алексей Гилёв</td>\n",
       "      <td>30</td>\n",
       "    </tr>\n",
       "    <tr>\n",
       "      <th>26</th>\n",
       "      <td>3.806709</td>\n",
       "      <td>1585</td>\n",
       "      <td>Юлия Архангельская</td>\n",
       "      <td>60</td>\n",
       "    </tr>\n",
       "    <tr>\n",
       "      <th>27</th>\n",
       "      <td>3.804900</td>\n",
       "      <td>16837</td>\n",
       "      <td>Наталья Кудряшова</td>\n",
       "      <td>23</td>\n",
       "    </tr>\n",
       "    <tr>\n",
       "      <th>28</th>\n",
       "      <td>3.799791</td>\n",
       "      <td>9061</td>\n",
       "      <td>Евгений Дёмин</td>\n",
       "      <td>410</td>\n",
       "    </tr>\n",
       "    <tr>\n",
       "      <th>29</th>\n",
       "      <td>3.792080</td>\n",
       "      <td>24384</td>\n",
       "      <td>Евгений Пашковский</td>\n",
       "      <td>115</td>\n",
       "    </tr>\n",
       "    <tr>\n",
       "      <th>30</th>\n",
       "      <td>3.789712</td>\n",
       "      <td>18194</td>\n",
       "      <td>Мария Кленницкая</td>\n",
       "      <td>97</td>\n",
       "    </tr>\n",
       "    <tr>\n",
       "      <th>31</th>\n",
       "      <td>3.784311</td>\n",
       "      <td>14786</td>\n",
       "      <td>Николай Коврижных</td>\n",
       "      <td>104</td>\n",
       "    </tr>\n",
       "    <tr>\n",
       "      <th>32</th>\n",
       "      <td>3.780528</td>\n",
       "      <td>20001</td>\n",
       "      <td>Александр Мартынов</td>\n",
       "      <td>49</td>\n",
       "    </tr>\n",
       "    <tr>\n",
       "      <th>33</th>\n",
       "      <td>3.772357</td>\n",
       "      <td>12785</td>\n",
       "      <td>Вадим Ишин</td>\n",
       "      <td>-1</td>\n",
       "    </tr>\n",
       "    <tr>\n",
       "      <th>34</th>\n",
       "      <td>3.771452</td>\n",
       "      <td>16332</td>\n",
       "      <td>Николай Крапиль</td>\n",
       "      <td>77</td>\n",
       "    </tr>\n",
       "    <tr>\n",
       "      <th>35</th>\n",
       "      <td>3.770955</td>\n",
       "      <td>74382</td>\n",
       "      <td>Михаил Новосёлов</td>\n",
       "      <td>50</td>\n",
       "    </tr>\n",
       "    <tr>\n",
       "      <th>36</th>\n",
       "      <td>3.766000</td>\n",
       "      <td>34846</td>\n",
       "      <td>Антон Чернин</td>\n",
       "      <td>13</td>\n",
       "    </tr>\n",
       "    <tr>\n",
       "      <th>37</th>\n",
       "      <td>3.764901</td>\n",
       "      <td>707</td>\n",
       "      <td>Елена Александрова</td>\n",
       "      <td>11197</td>\n",
       "    </tr>\n",
       "    <tr>\n",
       "      <th>38</th>\n",
       "      <td>3.764560</td>\n",
       "      <td>4226</td>\n",
       "      <td>Сусанна Бровер</td>\n",
       "      <td>572</td>\n",
       "    </tr>\n",
       "    <tr>\n",
       "      <th>39</th>\n",
       "      <td>3.762876</td>\n",
       "      <td>33032</td>\n",
       "      <td>Татьяна Фёдорова</td>\n",
       "      <td>18</td>\n",
       "    </tr>\n",
       "    <tr>\n",
       "      <th>40</th>\n",
       "      <td>3.760267</td>\n",
       "      <td>19915</td>\n",
       "      <td>Александр Марков</td>\n",
       "      <td>51</td>\n",
       "    </tr>\n",
       "    <tr>\n",
       "      <th>41</th>\n",
       "      <td>3.754065</td>\n",
       "      <td>37718</td>\n",
       "      <td>Дмитрий Петров</td>\n",
       "      <td>24</td>\n",
       "    </tr>\n",
       "    <tr>\n",
       "      <th>42</th>\n",
       "      <td>3.733660</td>\n",
       "      <td>24342</td>\n",
       "      <td>Денис Пахомов</td>\n",
       "      <td>11257</td>\n",
       "    </tr>\n",
       "    <tr>\n",
       "      <th>43</th>\n",
       "      <td>3.729450</td>\n",
       "      <td>3671</td>\n",
       "      <td>Алексей Богословский</td>\n",
       "      <td>588</td>\n",
       "    </tr>\n",
       "    <tr>\n",
       "      <th>44</th>\n",
       "      <td>3.726182</td>\n",
       "      <td>6212</td>\n",
       "      <td>Юрий Выменец</td>\n",
       "      <td>12</td>\n",
       "    </tr>\n",
       "    <tr>\n",
       "      <th>45</th>\n",
       "      <td>3.723868</td>\n",
       "      <td>505</td>\n",
       "      <td>Иделия Айзятулова</td>\n",
       "      <td>68</td>\n",
       "    </tr>\n",
       "    <tr>\n",
       "      <th>46</th>\n",
       "      <td>3.721639</td>\n",
       "      <td>15595</td>\n",
       "      <td>Кристина Кораблина</td>\n",
       "      <td>109</td>\n",
       "    </tr>\n",
       "    <tr>\n",
       "      <th>47</th>\n",
       "      <td>3.706882</td>\n",
       "      <td>15727</td>\n",
       "      <td>Александр Коробейников</td>\n",
       "      <td>110</td>\n",
       "    </tr>\n",
       "    <tr>\n",
       "      <th>48</th>\n",
       "      <td>3.705808</td>\n",
       "      <td>6482</td>\n",
       "      <td>Ким Галачян</td>\n",
       "      <td>9</td>\n",
       "    </tr>\n",
       "    <tr>\n",
       "      <th>49</th>\n",
       "      <td>3.701455</td>\n",
       "      <td>15456</td>\n",
       "      <td>Сергей Коновалов</td>\n",
       "      <td>15</td>\n",
       "    </tr>\n",
       "  </tbody>\n",
       "</table>\n",
       "</div>"
      ],
      "text/plain": [
       "       score      id                    name  actual_position\n",
       "0   4.438798   27403            Максим Руссо                5\n",
       "1   4.292067    4270       Александра Брутер                6\n",
       "2   4.242939   28751            Иван Семушин                3\n",
       "3   4.211719   27822        Михаил Савченков                2\n",
       "4   4.138163   30152          Артём Сорожкин                1\n",
       "5   4.119870   30270          Сергей Спешков                4\n",
       "6   4.105460   40411         Дмитрий Кудинов               -1\n",
       "7   4.010716   38175        Максим Пилипенко             9946\n",
       "8   3.984454   18036     Михаил Левандовский                8\n",
       "9   3.975538   20691   Станислав Мереминский               38\n",
       "10  3.975193   22799        Сергей Николенко               10\n",
       "11  3.945244   56647        Наталья Горелова              349\n",
       "12  3.941626   87637          Антон Саксонов              158\n",
       "13  3.941249   26089        Ирина Прокофьева               65\n",
       "14  3.906355   30260         Евгений Спектор             1584\n",
       "15  3.896646   23737       Андрей Островский               16\n",
       "16  3.896429   22935            Илья Новиков              132\n",
       "17  3.877915   34328            Михаил Царёв              311\n",
       "18  3.865805   13689         Дмитрий Карякин               27\n",
       "19  3.858008  202410      Валентина Подюкова               -1\n",
       "20  3.846512   21698       Александр Мосягин              146\n",
       "21  3.842825   18332         Александр Либер                7\n",
       "22  3.841745   74001             Игорь Мокин               74\n",
       "23  3.841415   37047             Мария Юнгер              589\n",
       "24  3.838808  210174         Анна Карпелевич            16965\n",
       "25  3.830555    7008           Алексей Гилёв               30\n",
       "26  3.806709    1585      Юлия Архангельская               60\n",
       "27  3.804900   16837       Наталья Кудряшова               23\n",
       "28  3.799791    9061           Евгений Дёмин              410\n",
       "29  3.792080   24384      Евгений Пашковский              115\n",
       "30  3.789712   18194        Мария Кленницкая               97\n",
       "31  3.784311   14786       Николай Коврижных              104\n",
       "32  3.780528   20001      Александр Мартынов               49\n",
       "33  3.772357   12785              Вадим Ишин               -1\n",
       "34  3.771452   16332         Николай Крапиль               77\n",
       "35  3.770955   74382        Михаил Новосёлов               50\n",
       "36  3.766000   34846            Антон Чернин               13\n",
       "37  3.764901     707      Елена Александрова            11197\n",
       "38  3.764560    4226          Сусанна Бровер              572\n",
       "39  3.762876   33032        Татьяна Фёдорова               18\n",
       "40  3.760267   19915        Александр Марков               51\n",
       "41  3.754065   37718          Дмитрий Петров               24\n",
       "42  3.733660   24342           Денис Пахомов            11257\n",
       "43  3.729450    3671    Алексей Богословский              588\n",
       "44  3.726182    6212            Юрий Выменец               12\n",
       "45  3.723868     505       Иделия Айзятулова               68\n",
       "46  3.721639   15595      Кристина Кораблина              109\n",
       "47  3.706882   15727  Александр Коробейников              110\n",
       "48  3.705808    6482             Ким Галачян                9\n",
       "49  3.701455   15456        Сергей Коновалов               15"
      ]
     },
     "execution_count": 31,
     "metadata": {},
     "output_type": "execute_result"
    }
   ],
   "source": [
    "df_rating = pd.DataFrame(sorted_rating)[:50]\n",
    "df_rating['actual_position'] = df_rating['id'].apply(get_player_position)\n",
    "df_rating.head(50)"
   ]
  },
  {
   "cell_type": "code",
   "execution_count": 32,
   "metadata": {},
   "outputs": [
    {
     "name": "stdout",
     "output_type": "stream",
     "text": [
      "В топ-50 рейтинга модели попали 32 игроков из топ-100 реального рейтинга\n"
     ]
    }
   ],
   "source": [
    "top_50_count = df_rating[df_rating['actual_position'] <= 100].shape[0]\n",
    "\n",
    "print(f'В топ-50 рейтинга {top_50_count} игроков из топ-100 реального рейтинга')"
   ]
  },
  {
   "cell_type": "markdown",
   "metadata": {},
   "source": [
    "Возьмем за рейтинг команды вероятность правильного ответа на вопрос хотя бы одним участником команды: $P(team=1) = 1 - \\prod P(player=0)$\n",
    "\n",
    "Сложность вопросов заранее неизвестна, поэтому просто занулим коэфициенты у лог. рег. с прошлого шага, отвечающие за сложности вопросов"
   ]
  },
  {
   "cell_type": "code",
   "execution_count": 85,
   "metadata": {},
   "outputs": [],
   "source": [
    "def predict_tournaments(model, tournaments, member_to_idx):\n",
    "\n",
    "    tournaments_rating_pred = []\n",
    "    for torunament in tqdm(tournaments, position=0, leave=False):\n",
    "        tournament_questions_count = len(torunament[0]['mask'])\n",
    "        preds = []\n",
    "        for team in torunament:\n",
    "            memeber_idxs = [member_to_idx[member['player']['id']] for member in team['teamMembers']]\n",
    "            members_count = len(memeber_idxs)\n",
    "\n",
    "            X = sparse.lil_matrix((members_count, dim1), dtype=int)\n",
    "            X[range(len(memeber_idxs)), memeber_idxs] = 1\n",
    "\n",
    "            fail_probas = model.predict_proba(X)[:, 0]\n",
    "            team_proba = 1 - fail_probas.prod() \n",
    "            preds.append(team_proba)\n",
    "\n",
    "        tournaments_rating_pred.append(preds)\n",
    "    return tournaments_rating_pred\n",
    "\n",
    "def get_corr(tournaments_rating_true, tournaments_rating_pred):\n",
    "    spearmanr_corrs = []\n",
    "    kendall_corrs = []\n",
    "    for i in range(len(tournaments_rating_true)):\n",
    "        spearman = stats.spearmanr(tournaments_rating_true[i], tournaments_rating_pred[i]).correlation\n",
    "        kendall = stats.kendalltau(tournaments_rating_true[i], tournaments_rating_pred[i]).correlation\n",
    "        spearmanr_corrs.append(spearman)\n",
    "        kendall_corrs.append(kendall)\n",
    "\n",
    "    print(f'Корреляция Спирмена: {np.mean(spearmanr_corrs):.4f}')\n",
    "    print(f'Корреляция Кендалла: {np.mean(kendall_corrs):.4f}')"
   ]
  },
  {
   "cell_type": "code",
   "execution_count": null,
   "metadata": {},
   "outputs": [],
   "source": [
    "tournaments_rating_true = []\n",
    "\n",
    "for tournament in tournaments_val:\n",
    "    teams_test = []\n",
    "    teams_rating = []\n",
    "    for team in tournament['teams']:\n",
    "  \n",
    "        memebers = [member for member in team['members'] if member in member_to_idx.keys()]\n",
    "        team_test = copy(team)\n",
    "        team_test['members'] = memebers\n",
    "        \n",
    "        if len(memebers) > 0:\n",
    "            teams_test.append(team_test)\n",
    "            team_answers = list(map(int, team['mask']))\n",
    "            team_score = sum(team_answers)\n",
    "            teams_rating.append(team_score)"
   ]
  },
  {
   "cell_type": "code",
   "execution_count": 90,
   "metadata": {},
   "outputs": [
    {
     "name": "stderr",
     "output_type": "stream",
     "text": [
      "                                                 \r"
     ]
    },
    {
     "name": "stdout",
     "output_type": "stream",
     "text": [
      "Корреляция Спирмена: 0.7985\n",
      "Корреляция Кендалла: 0.6431\n"
     ]
    }
   ],
   "source": [
    "tournaments_rating_pred = predict_tournaments(\n",
    "    model=lr, \n",
    "    tournaments=test_tournaments_preprocessed,\n",
    "    member_to_idx=player_to_cat, \n",
    ")\n",
    "assert len(tournaments_rating_pred) == len(tournaments_rating_true)\n",
    "\n",
    "get_corr(tournaments_rating_true, tournaments_rating_pred)"
   ]
  },
  {
   "cell_type": "markdown",
   "metadata": {},
   "source": [
    "# EM-алгоритм"
   ]
  },
  {
   "cell_type": "markdown",
   "metadata": {},
   "source": [
    "Возьмем в качестве вектора скрытых переменных вероятность правильного ответа игроком на вопрос при условии команды: $z = P(member=1|team)$\n",
    "\n",
    "Упрощающее предположение - если команда не ответила на вопрос, то никто в команде не ответил на вопрос: $P(member=1|team=0) = 0$\n",
    "\n",
    "E-шаг: предсказываем вероятности ответа на вопрос игрока при условии команды: $P(member=1|team=1) = \\frac{P(member=1 \\cap team=1)}{P(team=1)} = \\frac{P(team=1 | member=1) P(member=1)}{P(team=1)} = \\frac{P(member=1)}{P(team=1)}$\n",
    "    \n",
    "M-шаг: максимизируем правдоподобие. Обучаем модель на вероятностях с E-шага\n",
    "\n"
   ]
  },
  {
   "cell_type": "code",
   "execution_count": 102,
   "metadata": {},
   "outputs": [],
   "source": [
    "from sklearn.linear_model import LinearRegression\n",
    "\n",
    "class LogRegSoftLabel:\n",
    "    \"\"\"\n",
    "    logistic regression on soft labels\n",
    "    \"\"\"\n",
    "    def __init__(self):\n",
    "        pass\n",
    "    \n",
    "    def fit(self, X, y, *args, **kwargs):\n",
    "        y_tr = np.clip(y, 1e-8, 1 - 1e-8)   # numerical stability\n",
    "        inv_sig_y = np.log(y_tr / (1.0 - y_tr))  # transform to log-odds-ratio space\n",
    "        \n",
    "        self._lr = LinearRegression(*args, **kwargs)\n",
    "        self._lr.fit(X, inv_sig_y)\n",
    "        \n",
    "    def predict_proba(self, X):\n",
    "        preds = sigmoid(self._lr.predict(X))\n",
    "        return np.hstack(((1 - preds).reshape(-1, 1), preds.reshape(-1, 1)))"
   ]
  },
  {
   "cell_type": "code",
   "execution_count": 103,
   "metadata": {},
   "outputs": [],
   "source": [
    "%%time\n",
    "model = LogRegSoftLabel()\n",
    "model.fit(X, y)"
   ]
  },
  {
   "cell_type": "code",
   "execution_count": 105,
   "metadata": {},
   "outputs": [
    {
     "name": "stderr",
     "output_type": "stream",
     "text": [
      "                                                 \r"
     ]
    },
    {
     "name": "stdout",
     "output_type": "stream",
     "text": [
      "Корреляция Спирмена: 0.7939\n",
      "Корреляция Кендалла: 0.6364\n"
     ]
    }
   ],
   "source": [
    "tournaments_rating_pred = predict_tournaments(\n",
    "    model=model, \n",
    "    tournaments=test_tournaments_preprocessed,\n",
    "    member_to_idx=player_to_cat, \n",
    ")\n",
    "get_corr(tournaments_rating_true, tournaments_rating_pred)"
   ]
  },
  {
   "cell_type": "code",
   "execution_count": 119,
   "metadata": {},
   "outputs": [
    {
     "name": "stderr",
     "output_type": "stream",
     "text": [
      "  7%|▋         | 1/15 [02:15<31:39, 135.69s/it]  "
     ]
    },
    {
     "name": "stdout",
     "output_type": "stream",
     "text": [
      "Корреляция Спирмена: 0.7805\n",
      "Корреляция Кендалла: 0.6233\n"
     ]
    },
    {
     "name": "stderr",
     "output_type": "stream",
     "text": [
      " 13%|█▎        | 2/15 [04:30<29:19, 135.33s/it]  "
     ]
    },
    {
     "name": "stdout",
     "output_type": "stream",
     "text": [
      "Корреляция Спирмена: 0.7896\n",
      "Корреляция Кендалла: 0.6307\n"
     ]
    },
    {
     "name": "stderr",
     "output_type": "stream",
     "text": [
      " 20%|██        | 3/15 [06:46<27:06, 135.52s/it]  "
     ]
    },
    {
     "name": "stdout",
     "output_type": "stream",
     "text": [
      "Корреляция Спирмена: 0.7915\n",
      "Корреляция Кендалла: 0.6326\n"
     ]
    },
    {
     "name": "stderr",
     "output_type": "stream",
     "text": [
      " 27%|██▋       | 4/15 [09:03<24:56, 136.02s/it]  "
     ]
    },
    {
     "name": "stdout",
     "output_type": "stream",
     "text": [
      "Корреляция Спирмена: 0.7939\n",
      "Корреляция Кендалла: 0.6366\n"
     ]
    },
    {
     "name": "stderr",
     "output_type": "stream",
     "text": [
      " 33%|███▎      | 5/15 [11:17<22:34, 135.45s/it]  "
     ]
    },
    {
     "name": "stdout",
     "output_type": "stream",
     "text": [
      "Корреляция Спирмена: 0.7946\n",
      "Корреляция Кендалла: 0.6378\n"
     ]
    },
    {
     "name": "stderr",
     "output_type": "stream",
     "text": [
      " 40%|████      | 6/15 [13:33<20:19, 135.51s/it]  "
     ]
    },
    {
     "name": "stdout",
     "output_type": "stream",
     "text": [
      "Корреляция Спирмена: 0.7952\n",
      "Корреляция Кендалла: 0.6384\n"
     ]
    },
    {
     "name": "stderr",
     "output_type": "stream",
     "text": [
      " 47%|████▋     | 7/15 [15:48<18:04, 135.53s/it]  "
     ]
    },
    {
     "name": "stdout",
     "output_type": "stream",
     "text": [
      "Корреляция Спирмена: 0.7957\n",
      "Корреляция Кендалла: 0.6388\n"
     ]
    },
    {
     "name": "stderr",
     "output_type": "stream",
     "text": [
      " 53%|█████▎    | 8/15 [18:06<15:53, 136.27s/it]  "
     ]
    },
    {
     "name": "stdout",
     "output_type": "stream",
     "text": [
      "Корреляция Спирмена: 0.7957\n",
      "Корреляция Кендалла: 0.6387\n"
     ]
    },
    {
     "name": "stderr",
     "output_type": "stream",
     "text": [
      " 60%|██████    | 9/15 [20:25<13:41, 136.97s/it]  "
     ]
    },
    {
     "name": "stdout",
     "output_type": "stream",
     "text": [
      "Корреляция Спирмена: 0.7958\n",
      "Корреляция Кендалла: 0.6388\n"
     ]
    },
    {
     "name": "stderr",
     "output_type": "stream",
     "text": [
      " 67%|██████▋   | 10/15 [22:42<11:25, 137.13s/it] "
     ]
    },
    {
     "name": "stdout",
     "output_type": "stream",
     "text": [
      "Корреляция Спирмена: 0.7958\n",
      "Корреляция Кендалла: 0.6385\n"
     ]
    },
    {
     "name": "stderr",
     "output_type": "stream",
     "text": [
      " 73%|███████▎  | 11/15 [25:01<09:10, 137.68s/it] "
     ]
    },
    {
     "name": "stdout",
     "output_type": "stream",
     "text": [
      "Корреляция Спирмена: 0.7957\n",
      "Корреляция Кендалла: 0.6384\n"
     ]
    },
    {
     "name": "stderr",
     "output_type": "stream",
     "text": [
      " 80%|████████  | 12/15 [27:21<06:55, 138.34s/it] "
     ]
    },
    {
     "name": "stdout",
     "output_type": "stream",
     "text": [
      "Корреляция Спирмена: 0.7956\n",
      "Корреляция Кендалла: 0.6384\n"
     ]
    },
    {
     "name": "stderr",
     "output_type": "stream",
     "text": [
      " 87%|████████▋ | 13/15 [29:41<04:37, 138.69s/it] "
     ]
    },
    {
     "name": "stdout",
     "output_type": "stream",
     "text": [
      "Корреляция Спирмена: 0.7963\n",
      "Корреляция Кендалла: 0.6389\n"
     ]
    },
    {
     "name": "stderr",
     "output_type": "stream",
     "text": [
      " 93%|█████████▎| 14/15 [31:59<02:18, 138.69s/it] "
     ]
    },
    {
     "name": "stdout",
     "output_type": "stream",
     "text": [
      "Корреляция Спирмена: 0.7962\n",
      "Корреляция Кендалла: 0.6389\n"
     ]
    },
    {
     "name": "stderr",
     "output_type": "stream",
     "text": [
      "100%|██████████| 15/15 [34:19<00:00, 137.29s/it] "
     ]
    },
    {
     "name": "stdout",
     "output_type": "stream",
     "text": [
      "Корреляция Спирмена: 0.7966\n",
      "Корреляция Кендалла: 0.6391\n"
     ]
    },
    {
     "name": "stderr",
     "output_type": "stream",
     "text": [
      "\n"
     ]
    }
   ],
   "source": [
    "for _ in trange(15):\n",
    "    \n",
    "    # E-шаг\n",
    "    preds = model.predict_proba(X)\n",
    "    \n",
    "    # Вероятность ответа игрока при условии команды\n",
    "    df_team = pd.DataFrame({'team': team_ids, 'question': question_idxs, 'fail_pred': preds[:, 0], 'success_pred': preds[:, 1]})\n",
    "    df_team_pis = df_team.groupby(['team', 'question']).agg({'fail_pred': 'prod'}).reset_index()\n",
    "    df_team_pis['team_success_pred'] = 1 - df_team_pis['fail_pred']\n",
    "    df_team_pis.drop(columns=['fail_pred'], inplace=True)\n",
    "    df_team = pd.merge(df_team, df_team_pis, left_on=['team', 'question'],  right_on=['team', 'question'])\n",
    "    z = (df_team['success_pred'] / df_team['team_success_pred']).clip(0, 1)\n",
    "    \n",
    "    # Если команда не ответила на вопрос, то никто из команды на него не ответил\n",
    "    z[y == 0] = 0\n",
    "    \n",
    "    # M-шаг\n",
    "    model.fit(X, z)\n",
    "\n",
    "    tournaments_rating_pred = predict_tournaments(\n",
    "        model=model, \n",
    "        tournaments=test_tournaments_preprocessed,\n",
    "        member_to_idx=player_to_cat, \n",
    "    )\n",
    "    get_corr(tournaments_rating_true, tournaments_rating_pred)"
   ]
  }
 ],
 "metadata": {
  "kernelspec": {
   "display_name": "Python 3.7",
   "language": "python",
   "name": "python-3.7"
  },
  "language_info": {
   "codemirror_mode": {
    "name": "ipython",
    "version": 3
   },
   "file_extension": ".py",
   "mimetype": "text/x-python",
   "name": "python",
   "nbconvert_exporter": "python",
   "pygments_lexer": "ipython3",
   "version": "3.7.7"
  }
 },
 "nbformat": 4,
 "nbformat_minor": 4
}
